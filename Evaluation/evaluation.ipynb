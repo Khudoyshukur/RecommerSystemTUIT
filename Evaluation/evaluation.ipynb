{
 "cells": [
  {
   "cell_type": "code",
   "execution_count": 1,
   "id": "6221126a",
   "metadata": {},
   "outputs": [
    {
     "name": "stdout",
     "output_type": "stream",
     "text": [
      "{'MSE': 2.3052086946467796, 'RMSE': 1.5182913734348817, 'MAE': 1.234543010752688}\n"
     ]
    }
   ],
   "source": [
    "import pandas as pd\n",
    "import numpy as np\n",
    "from sklearn.model_selection import train_test_split\n",
    "from sklearn.metrics import mean_squared_error, mean_absolute_error\n",
    "from math import sqrt\n",
    "from scipy.sparse import csr_matrix\n",
    "from sklearn.neighbors import NearestNeighbors\n",
    "import ast\n",
    "\n",
    "# Load and prepare the ratings data\n",
    "with open('ratings.py', 'r') as file:\n",
    "    ratings_content = file.read()\n",
    "ratings_list = ast.literal_eval(ratings_content.split('=')[1].strip())\n",
    "ratings_df = pd.DataFrame(ratings_list)\n",
    "\n",
    "# Split the data into training and testing sets\n",
    "train_df, test_df = train_test_split(ratings_df, test_size=0.2, random_state=42)\n",
    "\n",
    "# Function to prepare data for KNN\n",
    "def prepare_data_for_knn(data):\n",
    "    pivot_data = data.pivot(index='product_id', columns='user_id', values='rating').fillna(0)\n",
    "    matrix_data = csr_matrix(pivot_data.values)\n",
    "    return pivot_data, matrix_data\n",
    "\n",
    "train_pivot, train_matrix = prepare_data_for_knn(train_df)\n",
    "test_pivot, test_matrix = prepare_data_for_knn(test_df)\n",
    "\n",
    "# Initialize and train the KNN model\n",
    "knn_model = NearestNeighbors(metric='cosine', algorithm='brute')\n",
    "knn_model.fit(train_matrix)\n",
    "\n",
    "# Adjusted predict_rating function\n",
    "def predict_rating_adjusted(user_id, product_id, pivot_data, model, global_avg_rating):\n",
    "    if user_id in pivot_data.columns and product_id in pivot_data.index:\n",
    "        user_idx = list(pivot_data.columns).index(user_id)\n",
    "        product_idx = list(pivot_data.index).index(product_id)\n",
    "        distances, indices = model.kneighbors(pivot_data.iloc[product_idx, :].values.reshape(1, -1), n_neighbors=7)\n",
    "        neighbor_ratings = [pivot_data.iloc[indices.flatten()[i], user_idx] for i in range(1, len(distances.flatten())) if pivot_data.iloc[indices.flatten()[i], user_idx] > 0]\n",
    "        if neighbor_ratings:\n",
    "            return np.mean(neighbor_ratings)\n",
    "        else:\n",
    "            user_avg = pivot_data.iloc[:, user_idx][pivot_data.iloc[:, user_idx] > 0].mean()\n",
    "            product_avg = pivot_data.iloc[product_idx, :][pivot_data.iloc[product_idx, :] > 0].mean()\n",
    "            return user_avg if not np.isnan(user_avg) else product_avg if not np.isnan(product_avg) else global_avg_rating\n",
    "    else:\n",
    "        return global_avg_rating\n",
    "\n",
    "# Calculate the global average rating\n",
    "global_average_rating = train_df['rating'].mean()\n",
    "\n",
    "# Generating predictions with the adjusted function\n",
    "test_predictions_adjusted = test_df.apply(lambda x: predict_rating_adjusted(x['user_id'], x['product_id'], train_pivot, knn_model, global_average_rating), axis=1)\n",
    "\n",
    "# Recalculate evaluation metrics\n",
    "mse_adjusted = mean_squared_error(test_df['rating'], test_predictions_adjusted)\n",
    "rmse_adjusted = sqrt(mse_adjusted)\n",
    "mae_adjusted = mean_absolute_error(test_df['rating'], test_predictions_adjusted)\n",
    "\n",
    "# Print evaluation metrics\n",
    "evaluation_metrics_adjusted = {\"MSE\": mse_adjusted, \"RMSE\": rmse_adjusted, \"MAE\": mae_adjusted}\n",
    "print(evaluation_metrics_adjusted)\n"
   ]
  },
  {
   "cell_type": "code",
   "execution_count": null,
   "id": "8938e6da",
   "metadata": {},
   "outputs": [],
   "source": []
  }
 ],
 "metadata": {
  "kernelspec": {
   "display_name": "Python 3 (ipykernel)",
   "language": "python",
   "name": "python3"
  },
  "language_info": {
   "codemirror_mode": {
    "name": "ipython",
    "version": 3
   },
   "file_extension": ".py",
   "mimetype": "text/x-python",
   "name": "python",
   "nbconvert_exporter": "python",
   "pygments_lexer": "ipython3",
   "version": "3.11.5"
  }
 },
 "nbformat": 4,
 "nbformat_minor": 5
}
