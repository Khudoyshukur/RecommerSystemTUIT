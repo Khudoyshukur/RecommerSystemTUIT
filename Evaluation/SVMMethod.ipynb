{
 "cells": [
  {
   "cell_type": "code",
   "execution_count": 8,
   "id": "cdd6243d",
   "metadata": {},
   "outputs": [
    {
     "name": "stdout",
     "output_type": "stream",
     "text": [
      "RMSE: 0.16819711862775977\n",
      "MSE: 0.028290270714680696\n",
      "MAE: 0.019132663565655243\n",
      "Accuracy: 0.9984962406015038\n",
      "F1 Score: 0.9727272727272727\n",
      "Recall: 0.9553571428571429\n"
     ]
    }
   ],
   "source": [
    "import pandas as pd\n",
    "import numpy as np\n",
    "from sklearn.decomposition import TruncatedSVD\n",
    "from sklearn.metrics import mean_squared_error, mean_absolute_error, accuracy_score, f1_score, recall_score\n",
    "from scipy.sparse import csr_matrix\n",
    "from math import sqrt\n",
    "import ast\n",
    "\n",
    "# Load and prepare the ratings data\n",
    "with open('ratings.py', 'r') as file:\n",
    "    ratings_content = file.read()\n",
    "ratings_list = ast.literal_eval(ratings_content.split('=')[1].strip())\n",
    "ratings_df = pd.DataFrame(ratings_list)\n",
    "\n",
    "# Prepare the user-item matrix\n",
    "pivot_table = ratings_df.pivot_table(index='user_id', columns='product_id', values='rating').fillna(0)\n",
    "X = csr_matrix(pivot_table.values)\n",
    "\n",
    "# Apply SVD\n",
    "svd = TruncatedSVD(n_components=20, random_state=42)\n",
    "X_reduced = svd.fit_transform(X)\n",
    "\n",
    "# Inverse transform to get rating predictions\n",
    "X_pred = svd.inverse_transform(X_reduced)\n",
    "\n",
    "# Flatten the matrices for calculating regression metrics\n",
    "original_ratings = X.toarray().flatten()\n",
    "predicted_ratings = X_pred.flatten()\n",
    "\n",
    "# Calculate RMSE, MSE, and MAE\n",
    "mse = mean_squared_error(original_ratings, predicted_ratings)\n",
    "rmse = sqrt(mse)\n",
    "mae = mean_absolute_error(original_ratings, predicted_ratings)\n",
    "\n",
    "# Define a threshold for classification\n",
    "threshold = 3\n",
    "actual_classes = [1 if rating > threshold else 0 for rating in original_ratings]\n",
    "predicted_classes = [1 if rating > threshold else 0 for rating in predicted_ratings]\n",
    "\n",
    "# Calculate accuracy, F1 score, and recall\n",
    "accuracy = accuracy_score(actual_classes, predicted_classes)\n",
    "f1 = f1_score(actual_classes, predicted_classes)\n",
    "recall = recall_score(actual_classes, predicted_classes)\n",
    "\n",
    "# Print evaluation metrics\n",
    "print(f'RMSE: {rmse}')\n",
    "print(f'MSE: {mse}')\n",
    "print(f'MAE: {mae}')\n",
    "print(f'Accuracy: {accuracy}')\n",
    "print(f'F1 Score: {f1}')\n",
    "print(f'Recall: {recall}')\n"
   ]
  },
  {
   "cell_type": "code",
   "execution_count": null,
   "id": "9fb00972",
   "metadata": {},
   "outputs": [],
   "source": []
  }
 ],
 "metadata": {
  "kernelspec": {
   "display_name": "Python 3 (ipykernel)",
   "language": "python",
   "name": "python3"
  },
  "language_info": {
   "codemirror_mode": {
    "name": "ipython",
    "version": 3
   },
   "file_extension": ".py",
   "mimetype": "text/x-python",
   "name": "python",
   "nbconvert_exporter": "python",
   "pygments_lexer": "ipython3",
   "version": "3.11.5"
  }
 },
 "nbformat": 4,
 "nbformat_minor": 5
}
